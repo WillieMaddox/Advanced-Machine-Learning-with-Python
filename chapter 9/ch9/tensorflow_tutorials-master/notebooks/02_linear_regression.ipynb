{
 "cells": [
  {
   "cell_type": "code",
   "execution_count": 1,
   "metadata": {
    "collapsed": false
   },
   "outputs": [
    {
     "data": {
      "text/plain": [
       "'Simple tutorial for using TensorFlow to compute a linear regression.\\n\\nParag K. Mital, Jan. 2016'"
      ]
     },
     "execution_count": 1,
     "metadata": {},
     "output_type": "execute_result"
    }
   ],
   "source": [
    "\"\"\"Simple tutorial for using TensorFlow to compute a linear regression.\n",
    "\n",
    "Parag K. Mital, Jan. 2016\"\"\""
   ]
  },
  {
   "cell_type": "code",
   "execution_count": 1,
   "metadata": {
    "collapsed": true
   },
   "outputs": [],
   "source": [
    "# %% imports\n",
    "import numpy as np\n",
    "import tensorflow as tf\n",
    "import matplotlib.pyplot as plt\n",
    "%matplotlib inline"
   ]
  },
  {
   "cell_type": "code",
   "execution_count": 2,
   "metadata": {
    "collapsed": false
   },
   "outputs": [
    {
     "name": "stderr",
     "output_type": "stream",
     "text": [
      "/home/maddoxw/.local/lib/python2.7/site-packages/matplotlib/figure.py:397: UserWarning: matplotlib is currently using a non-GUI backend, so cannot show the figure\n",
      "  \"matplotlib is currently using a non-GUI backend, \"\n"
     ]
    },
    {
     "data": {
      "image/png": "[encoded data removed]",
      "text/plain": [
       "<matplotlib.figure.Figure at 0x7f9765b12710>"
      ]
     },
     "metadata": {},
     "output_type": "display_data"
    }
   ],
   "source": [
    "# %% Let's create some toy data\n",
    "plt.ion()\n",
    "n_observations = 100\n",
    "fig, ax = plt.subplots(1, 1)\n",
    "xs = np.linspace(-3, 3, n_observations)\n",
    "ys = np.sin(xs) + np.random.uniform(-0.5, 0.5, n_observations)\n",
    "ax.scatter(xs, ys)\n",
    "fig.show()\n",
    "plt.draw()"
   ]
  },
  {
   "cell_type": "code",
   "execution_count": 5,
   "metadata": {
    "collapsed": true
   },
   "outputs": [],
   "source": [
    "# %% tf.placeholders for the input and output of the network. Placeholders are\n",
    "# variables which we need to fill in when we are ready to compute the graph.\n",
    "X = tf.placeholder(tf.float32)\n",
    "Y = tf.placeholder(tf.float32)"
   ]
  },
  {
   "cell_type": "code",
   "execution_count": 6,
   "metadata": {
    "collapsed": true
   },
   "outputs": [],
   "source": [
    "# %% We will try to optimize min_(W,b) ||(X*w + b) - y||^2\n",
    "# The `Variable()` constructor requires an initial value for the variable,\n",
    "# which can be a `Tensor` of any type and shape. The initial value defines the\n",
    "# type and shape of the variable. After construction, the type and shape of\n",
    "# the variable are fixed. The value can be changed using one of the assign\n",
    "# methods.\n",
    "W = tf.Variable(tf.random_normal([1]), name='weight')\n",
    "b = tf.Variable(tf.random_normal([1]), name='bias')\n",
    "Y_pred = tf.add(tf.mul(X, W), b)"
   ]
  },
  {
   "cell_type": "code",
   "execution_count": 7,
   "metadata": {
    "collapsed": true
   },
   "outputs": [],
   "source": [
    "# %% Loss function will measure the distance between our observations\n",
    "# and predictions and average over them.\n",
    "cost = tf.reduce_sum(tf.pow(Y_pred - Y, 2)) / (n_observations - 1)"
   ]
  },
  {
   "cell_type": "code",
   "execution_count": 7,
   "metadata": {
    "collapsed": true
   },
   "outputs": [],
   "source": [
    "# %% if we wanted to add regularization, we could add other terms to the cost,\n",
    "# e.g. ridge regression has a parameter controlling the amount of shrinkage\n",
    "# over the norm of activations. the larger the shrinkage, the more robust\n",
    "# to collinearity.\n",
    "# cost = tf.add(cost, tf.mul(1e-6, tf.global_norm([W])))"
   ]
  },
  {
   "cell_type": "code",
   "execution_count": 8,
   "metadata": {
    "collapsed": true
   },
   "outputs": [],
   "source": [
    "# %% Use gradient descent to optimize W,b\n",
    "# Performs a single step in the negative gradient\n",
    "learning_rate = 0.01\n",
    "optimizer = tf.train.GradientDescentOptimizer(learning_rate).minimize(cost)"
   ]
  },
  {
   "cell_type": "code",
   "execution_count": 9,
   "metadata": {
    "collapsed": false
   },
   "outputs": [
    {
     "name": "stdout",
     "output_type": "stream",
     "text": [
      "9.43412\n",
      "8.37548\n",
      "7.43966\n",
      "6.61238\n",
      "5.88103\n",
      "5.23445\n",
      "4.6628\n",
      "4.15738\n",
      "3.71048\n",
      "3.3153\n",
      "2.96585\n",
      "2.6568\n",
      "2.38348\n",
      "2.14173\n",
      "1.92788\n",
      "1.7387\n",
      "1.57133\n",
      "1.42324\n",
      "1.29219\n",
      "1.17621\n",
      "1.07356\n",
      "0.982676\n",
      "0.902211\n",
      "0.830956\n",
      "0.767845\n",
      "0.711936\n",
      "0.662398\n",
      "0.618494\n",
      "0.579575\n",
      "0.545065\n",
      "0.514456\n",
      "0.4873\n",
      "0.463198\n",
      "0.441799\n",
      "0.422794\n",
      "0.405907\n",
      "0.390897\n",
      "0.377547\n",
      "0.365669\n",
      "0.355095\n",
      "0.345675\n",
      "0.33728\n",
      "0.329792\n",
      "0.323108\n",
      "0.317139\n",
      "0.311803\n",
      "0.30703\n",
      "0.302755\n",
      "0.298924\n",
      "0.295487\n",
      "0.2924\n",
      "0.289624\n",
      "0.287126\n",
      "0.284875\n",
      "0.282844\n",
      "0.281008\n",
      "0.279348\n",
      "0.277843\n",
      "0.276478\n",
      "0.275238\n",
      "0.274109\n",
      "0.27308\n",
      "0.27214\n",
      "0.271281\n",
      "0.270494\n",
      "0.269772\n",
      "0.269109\n",
      "0.268498\n",
      "0.267935\n",
      "0.267414\n",
      "0.266933\n",
      "0.266487\n",
      "0.266073\n",
      "0.265688\n",
      "0.265329\n",
      "0.264994\n",
      "0.264682\n",
      "0.26439\n",
      "0.264116\n",
      "0.263859\n",
      "0.263618\n",
      "0.263391\n",
      "0.263178\n",
      "0.262976\n",
      "0.262786\n",
      "0.262607\n",
      "0.262437\n",
      "0.262277\n",
      "0.262124\n",
      "0.26198\n",
      "0.261843\n",
      "0.261713\n",
      "0.26159\n",
      "0.261472\n",
      "0.261361\n",
      "0.261254\n",
      "0.261153\n",
      "0.261057\n",
      "0.260965\n",
      "0.260877\n",
      "0.260793\n",
      "0.260713\n",
      "0.260637\n",
      "0.260564\n",
      "0.260495\n",
      "0.260428\n",
      "0.260365\n",
      "0.260304\n",
      "0.260246\n",
      "0.26019\n",
      "0.260137\n",
      "0.260087\n",
      "0.260038\n",
      "0.259991\n",
      "0.259947\n",
      "0.259904\n",
      "0.259864\n",
      "0.259825\n",
      "0.259787\n",
      "0.259752\n",
      "0.259717\n",
      "0.259685\n",
      "0.259653\n",
      "0.259623\n",
      "0.259594\n",
      "0.259567\n",
      "0.25954\n",
      "0.259515\n",
      "0.259491\n",
      "0.259468\n",
      "0.259446\n",
      "0.259425\n",
      "0.259404\n",
      "0.259385\n",
      "0.259366\n",
      "0.259349\n",
      "0.259331\n",
      "0.259315\n",
      "0.2593\n",
      "0.259285\n",
      "0.25927\n",
      "0.259257\n",
      "0.259244\n",
      "0.259231\n",
      "0.259219\n",
      "0.259208\n",
      "0.259197\n",
      "0.259186\n",
      "0.259176\n",
      "0.259167\n",
      "0.259157\n",
      "0.259149\n",
      "0.25914\n",
      "0.259132\n",
      "0.259125\n",
      "0.259117\n",
      "0.25911\n",
      "0.259104\n",
      "0.259097\n",
      "0.259091\n",
      "0.259085\n",
      "0.25908\n",
      "0.259074\n",
      "0.259069\n",
      "0.259064\n",
      "0.25906\n",
      "0.259055\n",
      "0.259051\n",
      "0.259047\n",
      "0.259043\n",
      "0.25904\n",
      "0.259036\n",
      "0.259033\n",
      "0.25903\n",
      "0.259027\n",
      "0.259024\n",
      "0.259021\n",
      "0.259019\n",
      "0.259016\n",
      "0.259014\n",
      "0.259011\n",
      "0.259009\n",
      "0.259007\n",
      "0.259005\n",
      "0.259004\n",
      "0.259002\n",
      "0.259\n",
      "0.258999\n",
      "0.258997\n",
      "0.258996\n",
      "0.258994\n",
      "0.258993\n",
      "0.258992\n",
      "0.258991\n",
      "0.25899\n",
      "0.258989\n",
      "0.258988\n"
     ]
    },
    {
     "data": {
      "text/plain": [
       "<matplotlib.figure.Figure at 0x7f4a098a87d0>"
      ]
     },
     "metadata": {},
     "output_type": "display_data"
    }
   ],
   "source": [
    "# %% We create a session to use the graph\n",
    "n_epochs = 1000\n",
    "with tf.Session() as sess:\n",
    "    # Here we tell tensorflow that we want to initialize all\n",
    "    # the variables in the graph so we can use them\n",
    "    sess.run(tf.initialize_all_variables())\n",
    "\n",
    "    # Fit all training data\n",
    "    prev_training_cost = 0.0\n",
    "    for epoch_i in range(n_epochs):\n",
    "        for (x, y) in zip(xs, ys):\n",
    "            sess.run(optimizer, feed_dict={X: x, Y: y})\n",
    "\n",
    "        training_cost = sess.run(\n",
    "            cost, feed_dict={X: xs, Y: ys})\n",
    "        print(training_cost)\n",
    "\n",
    "        if epoch_i % 20 == 0:\n",
    "            ax.plot(xs, Y_pred.eval(\n",
    "                feed_dict={X: xs}, session=sess),\n",
    "                    'k', alpha=epoch_i / n_epochs)\n",
    "            fig.show()\n",
    "            plt.draw()\n",
    "\n",
    "        # Allow the training to quit if we've reached a minimum\n",
    "        if np.abs(prev_training_cost - training_cost) < 0.000001:\n",
    "            break\n",
    "        prev_training_cost = training_cost\n",
    "fig.show()\n"
   ]
  }
 ],
 "metadata": {
  "kernelspec": {
   "display_name": "Python 2",
   "language": "python",
   "name": "python2"
  },
  "language_info": {
   "codemirror_mode": {
    "name": "ipython",
    "version": 2
   },
   "file_extension": ".py",
   "mimetype": "text/x-python",
   "name": "python",
   "nbconvert_exporter": "python",
   "pygments_lexer": "ipython2",
   "version": "2.7.12"
  }
 },
 "nbformat": 4,
 "nbformat_minor": 0
}
